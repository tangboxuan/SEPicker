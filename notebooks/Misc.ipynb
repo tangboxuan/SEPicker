{
 "cells": [
  {
   "cell_type": "code",
   "execution_count": 3,
   "metadata": {},
   "outputs": [],
   "source": [
    "import pandas as pd\n",
    "import numpy as np"
   ]
  },
  {
   "cell_type": "code",
   "execution_count": 8,
   "metadata": {},
   "outputs": [],
   "source": [
    "mappings = pd.read_csv('../static/Module-Mappings.csv')\n",
    "areas = pd.read_csv('../static/Country-Continent-Language.csv')"
   ]
  },
  {
   "cell_type": "code",
   "execution_count": 12,
   "metadata": {},
   "outputs": [],
   "source": [
    "regions = []\n",
    "countries = []\n",
    "for uni in mappings['Partner University']:\n",
    "    regions.append(areas[areas['University'] == uni]['Continent'].iloc[0])\n",
    "    countries.append(areas[areas['University'] == uni]['Country'].iloc[0])"
   ]
  },
  {
   "cell_type": "code",
   "execution_count": 13,
   "metadata": {},
   "outputs": [],
   "source": [
    "mappings['Country'] = countries\n",
    "mappings['Continent'] = regions"
   ]
  },
  {
   "cell_type": "code",
   "execution_count": 15,
   "metadata": {},
   "outputs": [],
   "source": [
    "mappings.to_csv('../static/Module-Mappings.csv',index=False)"
   ]
  },
  {
   "cell_type": "code",
   "execution_count": 32,
   "metadata": {},
   "outputs": [],
   "source": [
    "def get_department(mod_code):\n",
    "    output = ''\n",
    "    numbers = '1234567890'\n",
    "    for char in mod_code:\n",
    "        if char not in numbers:\n",
    "            output += char\n",
    "        else:\n",
    "            break\n",
    "    return output\n",
    "\n",
    "def get_level(mod_code):\n",
    "    for char in mod_code:\n",
    "        if char in '1234567890':\n",
    "            return char"
   ]
  },
  {
   "cell_type": "code",
   "execution_count": 42,
   "metadata": {},
   "outputs": [],
   "source": [
    "mod_codes1 = []\n",
    "mod_codes2 = []\n",
    "level = []\n",
    "for mod in zip(mappings['NUS Module 1'],mappings['NUS Module 2']):\n",
    "    try:\n",
    "        mod_codes1.append(get_department(mod[0]))\n",
    "    except:\n",
    "        mod_codes1.append(np.nan)\n",
    "        \n",
    "    try:\n",
    "        mod_codes2.append(get_department(mod[1]))\n",
    "    except:\n",
    "        mod_codes2.append(np.nan)\n",
    "        \n",
    "    try:\n",
    "        level.append(get_level(mod[0]))\n",
    "    except:\n",
    "        level.append(np.nan)\n",
    "\n",
    "mappings['Department 1'] = mod_codes1\n",
    "mappings['Department 2'] = mod_codes2\n",
    "mappings['Level'] = level"
   ]
  },
  {
   "cell_type": "code",
   "execution_count": 43,
   "metadata": {},
   "outputs": [],
   "source": [
    "mappings.to_csv('../static/Module-Mappings.csv',index=False)"
   ]
  },
  {
   "cell_type": "code",
   "execution_count": 48,
   "metadata": {},
   "outputs": [
    {
     "name": "stdout",
     "output_type": "stream",
     "text": [
      "('UD', 'AR')\n",
      "('MNO', 'BXT')\n",
      "('MNO', 'BXT')\n",
      "('BSP', 'MNO')\n",
      "('DSC', 'MNO')\n",
      "('BSP', 'MNO')\n"
     ]
    }
   ],
   "source": [
    "for tup in zip(mod_codes1, mod_codes2):\n",
    "    if (tup[0] != tup[1]) and (tup[0] is not np.nan) and (tup[1] is not np.nan):\n",
    "        print(tup)"
   ]
  },
  {
   "cell_type": "code",
   "execution_count": null,
   "metadata": {},
   "outputs": [],
   "source": []
  }
 ],
 "metadata": {
  "kernelspec": {
   "display_name": "Python 3",
   "language": "python",
   "name": "python3"
  },
  "language_info": {
   "codemirror_mode": {
    "name": "ipython",
    "version": 3
   },
   "file_extension": ".py",
   "mimetype": "text/x-python",
   "name": "python",
   "nbconvert_exporter": "python",
   "pygments_lexer": "ipython3",
   "version": "3.7.6"
  }
 },
 "nbformat": 4,
 "nbformat_minor": 4
}
